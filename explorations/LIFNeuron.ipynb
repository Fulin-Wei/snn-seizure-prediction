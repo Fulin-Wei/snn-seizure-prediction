{
 "cells": [
  {
   "cell_type": "code",
   "execution_count": 1,
   "metadata": {
    "collapsed": true
   },
   "outputs": [],
   "source": [
    "import numpy as np"
   ]
  },
  {
   "cell_type": "markdown",
   "metadata": {},
   "source": [
    "$$  w_{dyn} =\n",
    "\\begin{cases}\n",
    "(\\Delta t / T_{ref})^2,  & \\text{if $\\Delta t < T_{ref}$ and $w_{dyn} < 1$} \\\\\n",
    "1, & \\text{otherwise}\n",
    "\\end{cases}$$"
   ]
  },
  {
   "cell_type": "code",
   "execution_count": 8,
   "metadata": {
    "collapsed": true
   },
   "outputs": [],
   "source": [
    "def dynamic_weight(delta_time, maximum_refractory):\n",
    "    possible_w = (delta_time / maximum_refractory) ** 2\n",
    "    return max(possible_w, 1)"
   ]
  },
  {
   "cell_type": "markdown",
   "metadata": {},
   "source": [
    "$$V_{mp}(t_p) = V_{mp}(t_{p-1}) \\cdot \\exp(\\frac{t_{p-1} - t_p}{\\tau_{mp}}) + w_i^{(p)} w_{dyn}$$"
   ]
  },
  {
   "cell_type": "code",
   "execution_count": 22,
   "metadata": {
    "collapsed": true
   },
   "outputs": [],
   "source": [
    "def v_mp(prev_val, prev_time, cur_time, synapse_num, weights, out_time, maximum_refractory, membrane_time_const):\n",
    "    exp_dropoff = np.exp((prev_time - cur_time) / membrane_time_const)\n",
    "    weighting = weights[synapse_num] * dynamic_weight(out_time - cur_time, maximum_refractory)\n",
    "    return prev_val * exp_dropoff + weighting"
   ]
  },
  {
   "cell_type": "code",
   "execution_count": 23,
   "metadata": {},
   "outputs": [
    {
     "data": {
      "text/plain": [
       "0.0"
      ]
     },
     "execution_count": 23,
     "metadata": {},
     "output_type": "execute_result"
    }
   ],
   "source": [
    "v_mp(\n",
    "    prev_val=0, # should be eliminable using a wrapper function\n",
    "    prev_time=0, # is probably just cur_time - 1, but whatever\n",
    "    cur_time=0, \n",
    "    synapse_num=0, # only used as an index into weights\n",
    "    weights=[0], # should probably be an numpy vector; code doesn't care\n",
    "    out_time=0, # I have no idea what this is\n",
    "    maximum_refractory=1, # paper\n",
    "    membrane_time_const=20, # paper\n",
    ")"
   ]
  },
  {
   "cell_type": "code",
   "execution_count": 2,
   "metadata": {
    "collapsed": true
   },
   "outputs": [],
   "source": [
    "def accumulated_effect(): #x_k(t)\n",
    "    pass"
   ]
  },
  {
   "cell_type": "code",
   "execution_count": 4,
   "metadata": {
    "collapsed": true
   },
   "outputs": [],
   "source": [
    "def self_interation(): #a_i(t)\n",
    "    pass"
   ]
  }
 ],
 "metadata": {
  "kernelspec": {
   "display_name": "Python 3",
   "language": "python",
   "name": "python3"
  },
  "language_info": {
   "codemirror_mode": {
    "name": "ipython",
    "version": 3
   },
   "file_extension": ".py",
   "mimetype": "text/x-python",
   "name": "python",
   "nbconvert_exporter": "python",
   "pygments_lexer": "ipython3",
   "version": "3.6.2"
  }
 },
 "nbformat": 4,
 "nbformat_minor": 2
}
