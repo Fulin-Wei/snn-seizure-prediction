{
 "cells": [
  {
   "cell_type": "markdown",
   "metadata": {},
   "source": [
    "Here is an implementation of an ad-hoc transformation to spiking - making cutoffs. This enables the network to see spikes in the EEG."
   ]
  },
  {
   "cell_type": "code",
   "execution_count": 55,
   "metadata": {
    "collapsed": true
   },
   "outputs": [],
   "source": [
    "import numpy as np\n",
    "import matplotlib.pyplot as plt\n",
    "initial_snippet = np.fromfile('average.raw32', dtype=np.dtype('i4'), count=20000)"
   ]
  },
  {
   "cell_type": "code",
   "execution_count": 57,
   "metadata": {},
   "outputs": [
    {
     "data": {
      "image/png": "[encoded data removed]",
      "text/plain": [
       "<matplotlib.figure.Figure at 0x7efe1f780160>"
      ]
     },
     "metadata": {},
     "output_type": "display_data"
    }
   ],
   "source": [
    "x = np.arange(0, 20000, 1)\n",
    "y = initial_snippet\n",
    "plt.plot(x, y)\n",
    "plt.plot(x, np.array([+2000] * 20000))\n",
    "plt.plot(x, np.array([-2000] * 20000))\n",
    "plt.xlabel('Sample number')\n",
    "plt.ylabel('Voltage (microvolts)')\n",
    "plt.show()"
   ]
  },
  {
   "cell_type": "code",
   "execution_count": 7,
   "metadata": {},
   "outputs": [
    {
     "data": {
      "text/plain": [
       "array([2111, 2212, 2374, 2708, 2803, 2004, 2763, 2602, 2830, 2988, 3170,\n",
       "       2791, 3303, 2979, 3325, 2074, 2163, 2861, 2985, 3422, 3156, 3033,\n",
       "       3640, 3488, 2928, 3958, 2682, 3116, 3483, 3800, 3958, 3915, 3638,\n",
       "       3758, 3440, 3798, 3002, 2476, 3874, 3660, 3694, 3942, 3935, 3670,\n",
       "       4760, 3654, 3158, 3504, 3552, 3508, 3527, 3928, 3613, 3305, 3090,\n",
       "       2440, 3776, 4024, 3732, 3258, 3902, 4012, 3708, 3539, 3760, 3796,\n",
       "       3513, 3434, 2939, 3380, 3156, 3136, 2853, 3146, 3218, 3698, 2791,\n",
       "       2382, 2790, 2306, 2373, 2018, 2152, 2024, 2048, 2082, 2051, 2032,\n",
       "       2112, 2155, 2120, 2066, 2120, 2123, 2252, 2118, 2172, 2030, 2053,\n",
       "       2328, 2187, 2187, 2168, 2258, 2198, 2125, 2168, 2112, 2215, 2069,\n",
       "       2110, 2203, 2051, 2052, 2025, 2137, 2084, 2040, 2090, 2036, 2092,\n",
       "       2010], dtype=int32)"
      ]
     },
     "execution_count": 7,
     "metadata": {},
     "output_type": "execute_result"
    }
   ],
   "source": [
    "initial_snippet[initial_snippet > 2000]"
   ]
  },
  {
   "cell_type": "code",
   "execution_count": 9,
   "metadata": {},
   "outputs": [
    {
     "data": {
      "text/plain": [
       "array([-2223, -2315, -3198, -2145, -2719, -2348, -2122, -2333, -2410,\n",
       "       -2653, -2654, -2786, -2216, -2071, -2544, -2912, -2976, -2617,\n",
       "       -3014, -3330, -2400, -2674, -2530, -2360, -2352, -2225, -2830,\n",
       "       -2729, -2733, -2445, -2174, -2336, -2866, -2539, -2444, -2599,\n",
       "       -2280, -2267, -2612, -2864, -2102, -2408, -2952, -2772, -3197,\n",
       "       -2140, -2068, -2452, -2458, -2392, -2158, -2284, -2338, -2056,\n",
       "       -2260, -2584, -2233, -2039, -2009, -2158, -2050, -2036, -2058,\n",
       "       -2281, -2040, -2550, -2296, -2164, -2394, -2155, -2172, -2298,\n",
       "       -2441, -2155, -2188, -2384, -2177, -2399, -2940, -2707, -2508,\n",
       "       -2512, -2327, -2470, -2392, -2516, -2603, -2717, -2796, -3479,\n",
       "       -2850, -2672, -2866, -2906, -2750, -2951, -2976, -3073, -2902,\n",
       "       -2801, -2918, -3182, -3038, -3022, -3194, -2950, -3002, -3060,\n",
       "       -3114, -2926, -3004, -2900, -2782, -3087, -2938, -2782, -2900,\n",
       "       -2916, -2742, -2758, -2872, -2694, -2600, -2847, -2698, -2694,\n",
       "       -2622, -2450, -2554, -2540, -2703, -2644, -2381, -2318, -2558,\n",
       "       -2322, -2294, -2280, -2276, -2150, -2258, -2073, -2170, -2436,\n",
       "       -2132, -2231, -2134, -2206, -2036, -2052, -2050, -2090, -2050,\n",
       "       -2170, -2036, -2082, -2028, -2202, -2042, -2057, -2156, -2210,\n",
       "       -2242, -2142, -2222, -2050, -2138, -2098, -2223, -2402, -2246,\n",
       "       -2288, -2226, -2120, -2126, -2141, -2442, -2310, -2261, -2306,\n",
       "       -2066, -2122, -2202, -2158, -2418, -2437, -2331, -2362, -2138,\n",
       "       -2005, -2146, -2105, -2218, -2388, -2230, -2221, -2124, -2010,\n",
       "       -2010, -2020, -2283, -2139, -2113, -2141, -2206, -2212, -2100,\n",
       "       -2172, -2042, -2216, -2046, -2042, -2172, -2048, -2014, -2024,\n",
       "       -2024, -2024], dtype=int32)"
      ]
     },
     "execution_count": 9,
     "metadata": {},
     "output_type": "execute_result"
    }
   ],
   "source": [
    "initial_snippet[initial_snippet < -2000]"
   ]
  },
  {
   "cell_type": "code",
   "execution_count": 54,
   "metadata": {
    "collapsed": true
   },
   "outputs": [],
   "source": [
    "high_values = []\n",
    "for i in range(len(initial_snippet)):\n",
    "    if initial_snippet[i] > 2000:\n",
    "        high_values.append(i)"
   ]
  },
  {
   "cell_type": "code",
   "execution_count": 22,
   "metadata": {},
   "outputs": [
    {
     "data": {
      "image/png": "[encoded data removed]",
      "text/plain": [
       "<matplotlib.figure.Figure at 0x7efe1f725278>"
      ]
     },
     "metadata": {},
     "output_type": "display_data"
    }
   ],
   "source": [
    "plt.hist(high_values, bins=500)\n",
    "plt.show()"
   ]
  },
  {
   "cell_type": "code",
   "execution_count": 25,
   "metadata": {},
   "outputs": [
    {
     "data": {
      "text/plain": [
       "array([ 3260. ,  3645.6,  4031.2,  4416.8,  4802.4,  5188. ,  5573.6,\n",
       "        5959.2,  6344.8,  6730.4,  7116. ])"
      ]
     },
     "execution_count": 25,
     "metadata": {},
     "output_type": "execute_result"
    }
   ],
   "source": [
    "xs, ys = np.histogram(high_values)\n",
    "for i in t"
   ]
  },
  {
   "cell_type": "code",
   "execution_count": 26,
   "metadata": {},
   "outputs": [
    {
     "data": {
      "text/plain": [
       "[3260,\n",
       " 3262,\n",
       " 3269,\n",
       " 3270,\n",
       " 3271,\n",
       " 3273,\n",
       " 3276,\n",
       " 3277,\n",
       " 3278,\n",
       " 3279,\n",
       " 3280,\n",
       " 3281,\n",
       " 3282,\n",
       " 3283,\n",
       " 3284,\n",
       " 3285,\n",
       " 3286,\n",
       " 3287,\n",
       " 3288,\n",
       " 3289,\n",
       " 3290,\n",
       " 3291,\n",
       " 3292,\n",
       " 3293,\n",
       " 3294,\n",
       " 3295,\n",
       " 3296,\n",
       " 3297,\n",
       " 3298,\n",
       " 3299,\n",
       " 3300,\n",
       " 3301,\n",
       " 3302,\n",
       " 3303,\n",
       " 3304,\n",
       " 3305,\n",
       " 3306,\n",
       " 3307,\n",
       " 3308,\n",
       " 3309,\n",
       " 3310,\n",
       " 3311,\n",
       " 3312,\n",
       " 3313,\n",
       " 3314,\n",
       " 3315,\n",
       " 3316,\n",
       " 3317,\n",
       " 3318,\n",
       " 3319,\n",
       " 3320,\n",
       " 3321,\n",
       " 3322,\n",
       " 3323,\n",
       " 3324,\n",
       " 3325,\n",
       " 3326,\n",
       " 3327,\n",
       " 3328,\n",
       " 3329,\n",
       " 3330,\n",
       " 3331,\n",
       " 3332,\n",
       " 3333,\n",
       " 3334,\n",
       " 3335,\n",
       " 3336,\n",
       " 3337,\n",
       " 3338,\n",
       " 3339,\n",
       " 3340,\n",
       " 3341,\n",
       " 3342,\n",
       " 3343,\n",
       " 3344,\n",
       " 3345,\n",
       " 3346,\n",
       " 3347,\n",
       " 3348,\n",
       " 3349,\n",
       " 3350,\n",
       " 3351,\n",
       " 3353,\n",
       " 3354,\n",
       " 6966,\n",
       " 6975,\n",
       " 6983,\n",
       " 7025,\n",
       " 7033,\n",
       " 7041,\n",
       " 7042,\n",
       " 7043,\n",
       " 7044,\n",
       " 7049,\n",
       " 7050,\n",
       " 7051,\n",
       " 7052,\n",
       " 7053,\n",
       " 7057,\n",
       " 7058,\n",
       " 7059,\n",
       " 7060,\n",
       " 7061,\n",
       " 7066,\n",
       " 7067,\n",
       " 7068,\n",
       " 7069,\n",
       " 7074,\n",
       " 7075,\n",
       " 7076,\n",
       " 7077,\n",
       " 7083,\n",
       " 7084,\n",
       " 7085,\n",
       " 7086,\n",
       " 7091,\n",
       " 7092,\n",
       " 7094,\n",
       " 7100,\n",
       " 7102,\n",
       " 7108,\n",
       " 7116]"
      ]
     },
     "execution_count": 26,
     "metadata": {},
     "output_type": "execute_result"
    }
   ],
   "source": [
    "high_values"
   ]
  },
  {
   "cell_type": "code",
   "execution_count": 40,
   "metadata": {
    "collapsed": true
   },
   "outputs": [],
   "source": [
    "differences = []\n",
    "splits = []\n",
    "for i in range(len(high_values) - 1):\n",
    "    diff = high_values[i+1] - high_values[i]\n",
    "    if diff > 100:\n",
    "        splits.append(i + 1)\n",
    "    differences.append(diff)"
   ]
  },
  {
   "cell_type": "code",
   "execution_count": 42,
   "metadata": {},
   "outputs": [
    {
     "data": {
      "text/plain": [
       "[84]"
      ]
     },
     "execution_count": 42,
     "metadata": {},
     "output_type": "execute_result"
    }
   ],
   "source": [
    "splits"
   ]
  },
  {
   "cell_type": "code",
   "execution_count": 43,
   "metadata": {},
   "outputs": [
    {
     "name": "stdout",
     "output_type": "stream",
     "text": [
      "[3350, 3351, 3353, 3354]\n",
      "[6966, 6975, 6983, 7025]\n"
     ]
    }
   ],
   "source": [
    "print(high_values[80:84])\n",
    "print(high_values[84:88])"
   ]
  },
  {
   "cell_type": "markdown",
   "metadata": {},
   "source": [
    "Okay, so what we want here is the ability to split the inputs (times where the signal is high) up into a number of chunks, based on the splits. Ideally, we have an input of the form\n",
    "\n",
    "```\n",
    "[\n",
    "    (0, a),\n",
    "    (a, b),\n",
    "    (b, l)\n",
    "]\n",
    "```\n",
    "\n",
    "where $a$ and $b$ are the times of significant ends, and $l$ is the overall length of the chunk. Then we can just index in using ranges, and get the chunks, then calculate the average of each chunk and round to get a spike time."
   ]
  },
  {
   "cell_type": "code",
   "execution_count": 44,
   "metadata": {},
   "outputs": [
    {
     "name": "stdout",
     "output_type": "stream",
     "text": [
      "Help on class zip in module builtins:\n",
      "\n",
      "class zip(object)\n",
      " |  zip(iter1 [,iter2 [...]]) --> zip object\n",
      " |  \n",
      " |  Return a zip object whose .__next__() method returns a tuple where\n",
      " |  the i-th element comes from the i-th iterable argument.  The .__next__()\n",
      " |  method continues until the shortest iterable in the argument sequence\n",
      " |  is exhausted and then it raises StopIteration.\n",
      " |  \n",
      " |  Methods defined here:\n",
      " |  \n",
      " |  __getattribute__(self, name, /)\n",
      " |      Return getattr(self, name).\n",
      " |  \n",
      " |  __iter__(self, /)\n",
      " |      Implement iter(self).\n",
      " |  \n",
      " |  __new__(*args, **kwargs) from builtins.type\n",
      " |      Create and return a new object.  See help(type) for accurate signature.\n",
      " |  \n",
      " |  __next__(self, /)\n",
      " |      Implement next(self).\n",
      " |  \n",
      " |  __reduce__(...)\n",
      " |      Return state information for pickling.\n",
      "\n"
     ]
    }
   ],
   "source": [
    "help(zip)"
   ]
  },
  {
   "cell_type": "code",
   "execution_count": 46,
   "metadata": {},
   "outputs": [
    {
     "data": {
      "text/plain": [
       "[('0', 'a'), ('a', 'b'), ('b', 'l')]"
      ]
     },
     "execution_count": 46,
     "metadata": {},
     "output_type": "execute_result"
    }
   ],
   "source": [
    "internal_elements = ['a', 'b']\n",
    "list(zip(['0'] + internal_elements, internal_elements + ['l']))"
   ]
  },
  {
   "cell_type": "code",
   "execution_count": 52,
   "metadata": {
    "collapsed": true
   },
   "outputs": [],
   "source": [
    "spike_times = []\n",
    "for (start, end) in zip([0] + splits, splits + [len(high_values)]):\n",
    "    chunk = high_values[start:end]\n",
    "    avg = np.mean(np.array(chunk))\n",
    "    spike_times.append(int(avg))"
   ]
  },
  {
   "cell_type": "code",
   "execution_count": 53,
   "metadata": {},
   "outputs": [
    {
     "data": {
      "text/plain": [
       "[3311, 7060]"
      ]
     },
     "execution_count": 53,
     "metadata": {},
     "output_type": "execute_result"
    }
   ],
   "source": [
    "spike_times"
   ]
  },
  {
   "cell_type": "code",
   "execution_count": null,
   "metadata": {
    "collapsed": true
   },
   "outputs": [],
   "source": []
  }
 ],
 "metadata": {
  "kernelspec": {
   "display_name": "Python 3",
   "language": "python",
   "name": "python3"
  },
  "language_info": {
   "codemirror_mode": {
    "name": "ipython",
    "version": 3
   },
   "file_extension": ".py",
   "mimetype": "text/x-python",
   "name": "python",
   "nbconvert_exporter": "python",
   "pygments_lexer": "ipython3",
   "version": "3.6.3"
  }
 },
 "nbformat": 4,
 "nbformat_minor": 2
}
